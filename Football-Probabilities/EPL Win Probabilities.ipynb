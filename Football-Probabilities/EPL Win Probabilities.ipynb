{
 "cells": [
  {
   "cell_type": "markdown",
   "id": "d12930ee",
   "metadata": {},
   "source": [
    "#### OBJECTIVES\n",
    "- Use a football api to get English Premier league data for the season 2024/2025\n",
    "- Calculate win probabilities of the teams\n",
    "- Binomial probability of the teams winning the same number of games "
   ]
  },
  {
   "cell_type": "code",
   "execution_count": null,
   "id": "d81f37f9",
   "metadata": {},
   "outputs": [],
   "source": [
    "import requests \n",
    "import pandas as pd \n",
    "import numpy as np\n",
    "from scipy import stats \n",
    "import seaborn as sns\n",
    "import matplotlib.pyplot as plt"
   ]
  },
  {
   "cell_type": "code",
   "execution_count": null,
   "id": "40580048",
   "metadata": {},
   "outputs": [],
   "source": [
    "# Football data org api and get your api key\n",
    "\n",
    "url = \"https://api.football-data.org/v4/competitions/PL/standings\"\n",
    "headers = {\"X-Auth-Token\": \"API KEY\"}\n",
    "params = {\"season\": 2024}\n",
    "\n",
    "response = requests.get(url, headers = headers, params = params)\n",
    "data = response.json()\n",
    "\n",
    "#view all the json data \n",
    "#data "
   ]
  },
  {
   "cell_type": "code",
   "execution_count": null,
   "id": "1c48fb0b",
   "metadata": {},
   "outputs": [],
   "source": [
    "# get specifics from the data - total standings and data in 'table'\n",
    "standings_data = data['standings'][0]['table']\n",
    "#standings_data to view the extracted specifics\n",
    "\n",
    "#turning standings_data into a data frame using list comprehension\n",
    "standings_df = pd.DataFrame([{\n",
    "    'Position': team['position'],\n",
    "    'Team': team['team']['name'],\n",
    "    'Played': team['playedGames'],\n",
    "    'Won': team['won'],\n",
    "    'Drawn': team['draw'],\n",
    "    'Lost': team['lost'],\n",
    "    'Goals For': team['goalsFor'],\n",
    "    'Goals Against': team['goalsAgainst'],\n",
    "    'Points': team['points']\n",
    "} for team in standings_data])"
   ]
  },
  {
   "cell_type": "code",
   "execution_count": null,
   "id": "ab5f3944",
   "metadata": {},
   "outputs": [],
   "source": [
    "# FUNCTION TO CALCULATE THE WIN, DRAW AND LOSS RATE DURING THE SEASON AND THE BINOMIAL PROBABILITY OF WINNING THE SAME NO OF GAMES\n",
    "\n",
    "def win_probability(df):\n",
    "    # The rate at which the teams won during the season\n",
    "    df['win_rate'] = df['Won']/df['Played']\n",
    "\n",
    "    # Draw probability during the season\n",
    "    df['draw_rate'] = df['Drawn']/df['Played']\n",
    "\n",
    "    # Loss probability during the season\n",
    "    df['loss_rate'] = df['Lost']/df['Played']\n",
    "\n",
    "    # BINOMIAL PROBABILITIES\n",
    "    n = df['Played']\n",
    "    k = df['Won']\n",
    "    p = df['win_rate']\n",
    "\n",
    "    df['win'] = stats.binom.pmf(k, n, p)\n",
    "    return df"
   ]
  },
  {
   "cell_type": "code",
   "execution_count": null,
   "id": "116e1561",
   "metadata": {},
   "outputs": [],
   "source": [
    "win_probability1= win_probability(standings_df)"
   ]
  },
  {
   "cell_type": "code",
   "execution_count": null,
   "id": "2016b03c",
   "metadata": {},
   "outputs": [],
   "source": [
    "#Visialization of the win probability and the binomial probability of winning the same amount of games \n",
    "f,ax = plt.subplots(figsize = (14,6))\n",
    "sns.set_theme(style='whitegrid')\n",
    "\n",
    "df_sort = standings_df.sort_values('win_rate', ascending = False)\n",
    "\n",
    "# THE WIN RATE PROBABILITY OF THE SEASON\n",
    "sns.set_color_codes('pastel')\n",
    "sns.barplot(x = df_sort['win_rate'], y = df_sort['Team'], color = 'orange')\n",
    "\n",
    "# BINOMIAL WIN PROBABILITY\n",
    "sns.set_color_codes('colorblind')\n",
    "sns.barplot(x= df_sort['win'], y=df_sort['Team'], color='b')\n",
    "\n",
    "ax.set(ylabel=\"Teams\", xlabel=\"Probability\")"
   ]
  }
 ],
 "metadata": {
  "kernelspec": {
   "display_name": "base",
   "language": "python",
   "name": "python3"
  },
  "language_info": {
   "codemirror_mode": {
    "name": "ipython",
    "version": 3
   },
   "file_extension": ".py",
   "mimetype": "text/x-python",
   "name": "python",
   "nbconvert_exporter": "python",
   "pygments_lexer": "ipython3",
   "version": "3.12.7"
  }
 },
 "nbformat": 4,
 "nbformat_minor": 5
}
